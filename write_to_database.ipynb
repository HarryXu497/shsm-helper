{
 "cells": [
  {
   "cell_type": "code",
   "execution_count": 2,
   "metadata": {},
   "outputs": [],
   "source": [
    "import firebase_admin\n",
    "import pandas as pd\n",
    "import numpy as np\n",
    "\n",
    "from firebase_admin import credentials, firestore\n",
    "\n",
    "cred = credentials.Certificate(\"/home/hhwl/shsm-helper-firebase-adminsdk-fa3cn-01cf458481.json\")\n",
    "app = firebase_admin.initialize_app(cred)\n",
    "db = firestore.client(app=app)"
   ]
  },
  {
   "cell_type": "code",
   "execution_count": 5,
   "metadata": {},
   "outputs": [
    {
     "data": {
      "text/plain": [
       "update_time {\n",
       "  seconds: 1700855536\n",
       "  nanos: 819715000\n",
       "}"
      ]
     },
     "execution_count": 5,
     "metadata": {},
     "output_type": "execute_result"
    }
   ],
   "source": [
    "df = pd.read_csv(\"CSVs/SPE.csv\")\n",
    "df.head()\n",
    "doc = db.collection(u'info').document(u'SPE')\n",
    "store = {}\n",
    "for column in df.columns.values:\n",
    "\tstore[column] = df[column].tolist()\n",
    "doc.set(store)"
   ]
  },
  {
   "cell_type": "code",
   "execution_count": 7,
   "metadata": {},
   "outputs": [
    {
     "data": {
      "text/plain": [
       "update_time {\n",
       "  seconds: 1700856173\n",
       "  nanos: 740319000\n",
       "}"
      ]
     },
     "execution_count": 7,
     "metadata": {},
     "output_type": "execute_result"
    }
   ],
   "source": [
    "import math\n",
    "df = pd.read_csv(\"CSVs/sectorCerts.csv\")\n",
    "df.head()\n",
    "doc = db.collection(u'info').document(u'sectorCerts')\n",
    "store = {}\n",
    "for column in df.columns.values:\n",
    "\tstore[column] = [x for x in df[column].tolist() if type(x) is str]\n",
    "doc.set(store)"
   ]
  },
  {
   "cell_type": "code",
   "execution_count": 8,
   "metadata": {},
   "outputs": [
    {
     "data": {
      "text/plain": [
       "update_time {\n",
       "  seconds: 1700856209\n",
       "  nanos: 659965000\n",
       "}"
      ]
     },
     "execution_count": 8,
     "metadata": {},
     "output_type": "execute_result"
    }
   ],
   "source": [
    "import math\n",
    "df = pd.read_csv(\"CSVs/sectorReqs.csv\")\n",
    "df.head()\n",
    "doc = db.collection(u'info').document(u'sectorReqs')\n",
    "store = {}\n",
    "for column in df.columns.values:\n",
    "\tstore[column] = [x for x in df[column].tolist() if type(x) is str]\n",
    "doc.set(store)"
   ]
  }
 ],
 "metadata": {
  "kernelspec": {
   "display_name": "base",
   "language": "python",
   "name": "python3"
  },
  "language_info": {
   "codemirror_mode": {
    "name": "ipython",
    "version": 3
   },
   "file_extension": ".py",
   "mimetype": "text/x-python",
   "name": "python",
   "nbconvert_exporter": "python",
   "pygments_lexer": "ipython3",
   "version": "3.10.12"
  }
 },
 "nbformat": 4,
 "nbformat_minor": 2
}
